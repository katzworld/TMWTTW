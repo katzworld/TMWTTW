{
 "cells": [
  {
   "cell_type": "code",
   "execution_count": null,
   "metadata": {},
   "outputs": [],
   "source": [
    "import pandas as pd\n",
    "import seaborn as sns\n",
    "import matplotlib.pyplot as plt\n",
    "import numpy as np\n",
    "import requests\n"
   ]
  },
  {
   "cell_type": "code",
   "execution_count": null,
   "metadata": {},
   "outputs": [],
   "source": [
    "\n",
    "# Load the data\n",
    "response = requests.get('https://api.imamkatz.com/suffer') \n",
    "data = response.json()\n",
    "\n",
    "head = pd.DataFrame(data).head()\n",
    "print(head)\n",
    "#           suffer lifetime_plotas plota check                           session      timestamp\n",
    "# 0     dedcel.eth             427  4256    39  0DMnGkH2qOhYOMoAbiBA_hwM_8zoXGv3  1702863412933\n",
    "# 1  katzworld.eth            5896   120    50  mzC7qE9JGRl3HWfMqY-g57pglDx9jTlE  1707101089362\n",
    "\n",
    "    "
   ]
  },
  {
   "cell_type": "code",
   "execution_count": null,
   "metadata": {},
   "outputs": [],
   "source": [
    "\n",
    "breakdown = pd.DataFrame(data)\n",
    "breakdown['timestamp'] = pd.to_datetime(breakdown['timestamp'], unit='ms')\n",
    "breakdown['lifetime_plotas'] = pd.to_numeric(breakdown['lifetime_plotas'])\n",
    "breakdown['plota'] = pd.to_numeric(breakdown['plota'])\n",
    "breakdown['check'] = pd.to_numeric(breakdown['check'])\n",
    "breakdown['session'] = breakdown['session'].astype('category')\n",
    "breakdown['suffer'] = breakdown['suffer'].astype('category')\n",
    "\n",
    "start_points = breakdown[breakdown['check'] == 0].to_dict('records')\n",
    "highest_lifetime_plotas = breakdown['lifetime_plotas'].max()\n",
    "highest_lifetime_suffer = breakdown[breakdown['lifetime_plotas'] == highest_lifetime_plotas].to_dict('records') \n",
    "print(\"Highest lifetime_plotas:\", highest_lifetime_plotas , highest_lifetime_suffer)\n",
    "\n",
    "starting_plots = [point['plota'] for point in start_points]\n",
    "starting_lifetime_plotas = [point['lifetime_plotas'] for point in start_points]\n",
    "\n",
    "starting_suffer = [point['suffer'] for point in start_points]\n",
    "#uniq suffer \n",
    "uniq_suffer = breakdown['suffer'].unique()\n",
    "#remov null undefined and null entries in unique suffer\n",
    "uniq_suffer = [x for x in uniq_suffer if x is not None]\n",
    "uniq_suffer = [x for x in uniq_suffer if x != 'undefined']\n",
    "uniq_suffer = [x for x in uniq_suffer if x != 'null']\n",
    "entries_greater_than_zero = len(breakdown[breakdown['check'] > 0].to_dict('records'))\n",
    "\n",
    "print(\"number of trips\",entries_greater_than_zero)\n",
    "print(\"Unique suffer(s):\", uniq_suffer)\n",
    "\n",
    "starting_timestamp = [point['timestamp'] for point in start_points]\n",
    "starting_session = [point['session'] for point in start_points]\n"
   ]
  },
  {
   "cell_type": "code",
   "execution_count": null,
   "metadata": {},
   "outputs": [],
   "source": [
    "#plot the starting_plots on a scatter plot per 100 \n",
    "plt.figure(figsize=(20, 10 ))\n",
    "plt.scatter(starting_timestamp, starting_plots)\n",
    "plt.xlabel('Time')\n",
    "plt.xticks(rotation=45)\n",
    "plt.ylabel('Starting Plots')\n",
    "plt.title('Starting Plots over time')\n",
    "plt.yticks(np.arange(0, max(starting_plots), 1000))\n",
    "plt.show() \n"
   ]
  },
  {
   "cell_type": "code",
   "execution_count": null,
   "metadata": {},
   "outputs": [],
   "source": [
    "\n",
    "# get names for plotas from \n",
    "# https://play.tmwstw.io/data/names.json\n",
    "#response = requests.get('https://play.tmwstw.io/data/names.json')\n",
    "#named_plotas = response.json()\n",
    "\n",
    "# get list of popular plotas based on the number of times they have been visited in sessions \n",
    "popular_plotas = breakdown['plota'].value_counts().head(10)\n",
    "print(popular_plotas)\n",
    "#plot the popular_plotas on a bar plot cut by 100 for better visualization\n",
    "plt.figure(figsize=(20, 10 ))\n",
    "popular_plotas.plot(kind='bar')\n",
    "plt.xlabel('Plotas')\n",
    "plt.xticks(rotation=45)\n",
    "plt.ylabel('Number of times visited')\n",
    "plt.title('Most popular plotas')\n",
    "plt.yticks(np.arange(0, max(popular_plotas), 1000))\n",
    "plt.show()\n",
    "\n",
    "\n",
    "\n"
   ]
  }
 ],
 "metadata": {
  "kernelspec": {
   "display_name": "base",
   "language": "python",
   "name": "python3"
  },
  "language_info": {
   "codemirror_mode": {
    "name": "ipython",
    "version": 3
   },
   "file_extension": ".py",
   "mimetype": "text/x-python",
   "name": "python",
   "nbconvert_exporter": "python",
   "pygments_lexer": "ipython3",
   "version": "0.0.0"
  }
 },
 "nbformat": 4,
 "nbformat_minor": 2
}
